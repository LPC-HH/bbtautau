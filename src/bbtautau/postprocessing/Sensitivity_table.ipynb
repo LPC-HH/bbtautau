{
 "cells": [
  {
   "cell_type": "code",
   "execution_count": null,
   "metadata": {},
   "outputs": [],
   "source": [
    "import copy\n",
    "from pathlib import Path\n",
    "\n",
    "import pandas as pd\n",
    "import numpy as np\n",
    "\n",
    "import matplotlib.pyplot as plt\n",
    "import mplhep as hep\n",
    "from matplotlib import colors\n",
    "\n",
    "from boostedhh import utils, hh_vars, plotting\n",
    "from boostedhh.utils import PAD_VAL\n",
    "from bbtautau import bbtautau_vars\n",
    "\n",
    "import logging\n",
    "\n",
    "logging.basicConfig(level=logging.INFO, format=\"%(asctime)s - %(levelname)s - %(message)s\")\n",
    "logger = logging.getLogger(\"boostedhh.utils\")\n",
    "logger.setLevel(logging.DEBUG)\n",
    "\n",
    "plt.style.use(hep.style.CMS)\n",
    "hep.style.use(\"CMS\")"
   ]
  },
  {
   "cell_type": "code",
   "execution_count": null,
   "metadata": {},
   "outputs": [],
   "source": [
    "MAIN_DIR = Path(\"/home/users/lumori/bbtautau/\")\n",
    "CHANNEL = \"hadronic\"  # options: \"hadronic\", \"electron\", \"muon\"\n",
    "\n",
    "plot_dir = MAIN_DIR / f\"plots/SensitivityStudy/25Mar7{CHANNEL}\"\n",
    "plot_dir.mkdir(parents=True, exist_ok=True)"
   ]
  },
  {
   "cell_type": "markdown",
   "metadata": {},
   "source": [
    " | Muon                   |         B=1 |         B=2 |        B=8 |   Max_significance |\n",
    "|:-------------------|------------:|------------:|-----------:|-------------------:|\n",
    "| Sig_Yield          |   0.0811718 |   0.0830428 |   0.154558 |          0.0811718 |\n",
    "| BG_Yield           |   1         |   2         |   5        |          1         |\n",
    "| Limit              |  24.6391    |  34.0599    |  28.935    |         24.6391    |\n",
    "| Limit_scaled_Run3  |   5.8753    |   8.12173   |   6.89967  |          5.8753    |"
   ]
  },
  {
   "cell_type": "code",
   "execution_count": null,
   "metadata": {},
   "outputs": [],
   "source": [
    "for channel in [\"hadronic\", \"muon\", \"electron\"]:\n",
    "    bg_combined = 0\n",
    "    sig_combined = 0\n",
    "    results_full = {}\n",
    "    plot_dir = MAIN_DIR / f\"plots/SensitivityStudy/25Mar7{channel}\"\n",
    "    for years in [[\"2022\", \"2022EE\"], [\"2023\", \"2023BPix\"]]:\n",
    "        df = pd.read_csv(plot_dir / f\"{years}-results.csv\")\n",
    "        for year in years:\n",
    "            results_full[year] = df[year]\n",
    "            bg_combined += df[year][\"BG_Yield\"]\n",
    "            sig_combined += df[year][\"Sig_Yield\"]\n",
    "    results_full[\"combined\"] = as_df(\n",
    "        sig_combined, bg_combined, [\"2022\", \"2022EE\", \"2023\", \"2023BPix\"]\n",
    "    )"
   ]
  },
  {
   "cell_type": "code",
   "execution_count": null,
   "metadata": {},
   "outputs": [],
   "source": []
  },
  {
   "cell_type": "code",
   "execution_count": null,
   "metadata": {},
   "outputs": [],
   "source": []
  }
 ],
 "metadata": {
  "kernelspec": {
   "display_name": "Python 3",
   "language": "python",
   "name": "python3"
  },
  "language_info": {
   "codemirror_mode": {
    "name": "ipython",
    "version": 3
   },
   "file_extension": ".py",
   "mimetype": "text/x-python",
   "name": "python",
   "nbconvert_exporter": "python",
   "pygments_lexer": "ipython3",
   "version": "3.11.0"
  }
 },
 "nbformat": 4,
 "nbformat_minor": 2
}
