{
 "cells": [
  {
   "cell_type": "code",
   "execution_count": null,
   "metadata": {},
   "outputs": [],
   "source": [
    "from pathlib import Path\n",
    "import pandas as pd"
   ]
  },
  {
   "cell_type": "code",
   "execution_count": null,
   "metadata": {},
   "outputs": [
    {
     "name": "stdout",
     "output_type": "stream",
     "text": [
      "| muon               |       B=1 |       B=2 |       B=8 |   Max_significance |\n",
      "|:-------------------|----------:|----------:|----------:|-------------------:|\n",
      "| Sig_Yield          |  0.137415 |  0.160491 |  0.185217 |           0.137415 |\n",
      "| BG_Yield           |  1        |  2        |  8        |           1        |\n",
      "| Limit              | 14.5545   | 17.6236   | 30.5417   |          14.5545   |\n",
      "| Limit_scaled_22_24 |  4.83601  |  5.85578  | 10.1481   |           4.83601  |\n",
      "| Limit_scaled_Run3  |  3.47058  |  4.20242  |  7.2828   |           3.47058  |\n",
      "\n",
      "\n",
      "| hadronic           |       B=1 |         B=2 |      B=8 |   Max_significance |\n",
      "|:-------------------|----------:|------------:|---------:|-------------------:|\n",
      "| Sig_Yield          |  0.026628 |   0.0278628 |  0.12528 |          0.0937288 |\n",
      "| BG_Yield           |  1        |   2         |  8       |          4         |\n",
      "| Limit              | 75.1088   | 101.513     | 45.1536  |         42.6763    |\n",
      "| Limit_scaled_22_24 | 24.9564   |  33.7296    | 15.0032  |         14.1801    |\n",
      "| Limit_scaled_Run3  | 17.91     |  24.2061    | 10.7671  |         10.1764    |\n",
      "\n",
      "\n",
      "| electron           |        B=1 |        B=2 |       B=8 |   Max_significance |\n",
      "|:-------------------|-----------:|-----------:|----------:|-------------------:|\n",
      "| Sig_Yield          |  0.0240733 |  0.0410527 |  0.111333 |           0.148758 |\n",
      "| BG_Yield           |  1         |  2         |  8        |          12        |\n",
      "| Limit              | 83.0798    | 68.8974    | 50.8104   |          46.5738   |\n",
      "| Limit_scaled_22_24 | 27.6049    | 22.8926    | 16.8828   |          15.4751   |\n",
      "| Limit_scaled_Run3  | 19.8107    | 16.4289    | 12.116    |          11.1057   |\n",
      "\n",
      "\n"
     ]
    }
   ],
   "source": [
    "MAIN_DIR = Path(\"/home/users/lumori/bbtautau/\")\n",
    "for c in [\"muon\", \"hadronic\", \"electron\"]:\n",
    "    plot_dir = MAIN_DIR / f\"plots/SensitivityStudy/25Mar7{c}\"\n",
    "    df = pd.read_csv(plot_dir / \"2022_2022EE_2023_2023BPix-results_fast.csv\")\n",
    "    df = df.rename(columns={\"Unnamed: 0\": c})\n",
    "    df = df.drop(index=3)\n",
    "    print(df.to_markdown(index=False))\n",
    "    print(\"\\n\")"
   ]
  },
  {
   "cell_type": "markdown",
   "metadata": {},
   "source": [
    "| muon               |       B=1 |       B=2 |       B=8 |   Max_significance |\n",
    "|:-------------------|----------:|----------:|----------:|-------------------:|\n",
    "| Sig_Yield          |  0.137415 |  0.160491 |  0.185217 |           0.137415 |\n",
    "| BG_Yield           |  1        |  2        |  8        |           1        |\n",
    "| Limit              | 14.5545   | 17.6236   | 30.5417   |          14.5545   |\n",
    "| Limit_scaled_22_24 |  4.83601  |  5.85578  | 10.1481   |           4.83601  |\n",
    "| Limit_scaled_Run3  |  3.47058  |  4.20242  |  7.2828   |           3.47058  |\n",
    "\n",
    "\n",
    "\n",
    "| hadronic           |       B=1 |         B=2 |      B=8 |   Max_significance |\n",
    "|:-------------------|----------:|------------:|---------:|-------------------:|\n",
    "| Sig_Yield          |  0.026628 |   0.0278628 |  0.12528 |          0.0937288 |\n",
    "| BG_Yield           |  1        |   2         |  8       |          4         |\n",
    "| Limit              | 75.1088   | 101.513     | 45.1536  |         42.6763    |\n",
    "| Limit_scaled_22_24 | 24.9564   |  33.7296    | 15.0032  |         14.1801    |\n",
    "| Limit_scaled_Run3  | 17.91     |  24.2061    | 10.7671  |         10.1764    |\n",
    "\n",
    "\n",
    "\n",
    "| electron           |        B=1 |        B=2 |       B=8 |   Max_significance |\n",
    "|:-------------------|-----------:|-----------:|----------:|-------------------:|\n",
    "| Sig_Yield          |  0.0240733 |  0.0410527 |  0.111333 |           0.148758 |\n",
    "| BG_Yield           |  1         |  2         |  8        |          12        |\n",
    "| Limit              | 83.0798    | 68.8974    | 50.8104   |          46.5738   |\n",
    "| Limit_scaled_22_24 | 27.6049    | 22.8926    | 16.8828   |          15.4751   |\n",
    "| Limit_scaled_Run3  | 19.8107    | 16.4289    | 12.116    |          11.1057   |\n"
   ]
  },
  {
   "cell_type": "markdown",
   "metadata": {},
   "source": [
    "\n",
    "| Year           |   Lumi [fb^-1] |       Datasets |      Eras |   \n",
    "|:-------------------|-----------:|-----------:|----------:|\n",
    "| 2022          |  8.0 |  0.0410527 |  |    \n",
    "| 2022EE           |  26.7        |  2         |  8        |  \n",
    "| 2023              | 17.8     | 68.8974    | 50.8104   |    \n",
    "| 2023BPix | 9.5   | 22.8926    | 16.8828   |    "
   ]
  },
  {
   "cell_type": "markdown",
   "metadata": {},
   "source": []
  }
 ],
 "metadata": {
  "kernelspec": {
   "display_name": "Python 3",
   "language": "python",
   "name": "python3"
  },
  "language_info": {
   "codemirror_mode": {
    "name": "ipython",
    "version": 3
   },
   "file_extension": ".py",
   "mimetype": "text/x-python",
   "name": "python",
   "nbconvert_exporter": "python",
   "pygments_lexer": "ipython3",
   "version": "3.11.0"
  }
 },
 "nbformat": 4,
 "nbformat_minor": 2
}
