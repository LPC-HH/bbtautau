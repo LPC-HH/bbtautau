{
 "cells": [
  {
   "cell_type": "code",
   "execution_count": null,
   "metadata": {},
   "outputs": [],
   "source": [
    "import logging\n",
    "from pathlib import Path\n",
    "\n",
    "import pandas as pd\n",
    "import numpy as np\n",
    "\n",
    "import matplotlib.pyplot as plt\n",
    "import mplhep as hep\n",
    "from matplotlib import colors\n",
    "\n",
    "from boostedhh import utils, hh_vars\n",
    "from bbtautau.bbtautau_vars import HLT_dict, HLT_list\n",
    "\n",
    "logger = logging.getLogger(\"boostedhh.utils\")\n",
    "logger.setLevel(logging.DEBUG)"
   ]
  },
  {
   "cell_type": "code",
   "execution_count": 2,
   "metadata": {},
   "outputs": [],
   "source": [
    "# automatically reloads imported files on edits\n",
    "%load_ext autoreload\n",
    "%autoreload 2"
   ]
  },
  {
   "cell_type": "code",
   "execution_count": 3,
   "metadata": {},
   "outputs": [],
   "source": [
    "MAIN_DIR = Path(\"../../../\")\n",
    "\n",
    "plot_dir = MAIN_DIR / \"plots/SensitivityStudy/24Nov20\"\n",
    "plot_dir.mkdir(parents=True, exist_ok=True)\n",
    "\n",
    "year = \"2022\"\n",
    "data_samples_tag = \"24Nov18Data_v12_private_signal\"\n",
    "signal_samples_tag = \"24Nov9UpdateTriggers_v12_private_signal\""
   ]
  },
  {
   "cell_type": "code",
   "execution_count": null,
   "metadata": {},
   "outputs": [],
   "source": []
  },
  {
   "cell_type": "code",
   "execution_count": 14,
   "metadata": {},
   "outputs": [],
   "source": [
    "base_dir = Path(\"/ceph/cms/store/user/rkansal/bbtautau/skimmer/\")\n",
    "\n",
    "samples = {\n",
    "    \"jetmet\": utils.Sample(\n",
    "        path=base_dir / data_samples_tag,\n",
    "        selector=\"JetHT|JetMET\",\n",
    "        label=\"JetMET\",\n",
    "        isData=True,\n",
    "        year=year,\n",
    "    ),\n",
    "    \"tau\": utils.Sample(\n",
    "        path=base_dir / data_samples_tag,\n",
    "        selector=\"Tau_Run\",\n",
    "        label=\"Tau\",\n",
    "        isData=True,\n",
    "        year=year,\n",
    "    ),\n",
    "    \"bbtt\": utils.Sample(\n",
    "        path=base_dir / signal_samples_tag,\n",
    "        selector=hh_vars.bbtt_sigs[\"bbtt\"],\n",
    "        label=r\"HHbb$\\tau\\tau$\",\n",
    "        isData=False,\n",
    "        year=year,\n",
    "    ),\n",
    "}"
   ]
  },
  {
   "cell_type": "code",
   "execution_count": null,
   "metadata": {},
   "outputs": [
    {
     "name": "stderr",
     "output_type": "stream",
     "text": [
      "INFO:boostedhh.utils:Loading ['JetHT_Run2022C', 'JetMET_Run2022D', 'JetMET_Run2022C']\n",
      "DEBUG:boostedhh.utils:Loading JetHT_Run2022C\n",
      "INFO:boostedhh.utils:Loaded JetHT_Run2022C                                    : 3427511 entries\n",
      "DEBUG:boostedhh.utils:Loading JetMET_Run2022D\n",
      "INFO:boostedhh.utils:Loaded JetMET_Run2022D                                   : 17356652 entries\n",
      "DEBUG:boostedhh.utils:Loading JetMET_Run2022C\n",
      "INFO:boostedhh.utils:Loaded JetMET_Run2022C                                   : 29279007 entries\n",
      "INFO:boostedhh.utils:Loading ['Tau_Run2022C', 'Tau_Run2022D']\n",
      "DEBUG:boostedhh.utils:Loading Tau_Run2022C\n",
      "INFO:boostedhh.utils:Loaded Tau_Run2022C                                      : 2148530 entries\n",
      "DEBUG:boostedhh.utils:Loading Tau_Run2022D\n",
      "INFO:boostedhh.utils:Loaded Tau_Run2022D                                      : 1312497 entries\n",
      "INFO:boostedhh.utils:Loading ['GluGlutoHHto2B2Tau_kl-1p00_kt-1p00_c2-0p00_LHEweights_TuneCP5_13p6TeV_powheg-pythia8']\n",
      "DEBUG:boostedhh.utils:Loading GluGlutoHHto2B2Tau_kl-1p00_kt-1p00_c2-0p00_LHEweights_TuneCP5_13p6TeV_powheg-pythia8\n",
      "/home/users/rkansal/bbtautau/LPCbbtautau/boostedhh/src/boostedhh/utils.py:259: UserWarning: Temporarily scaling GluGlutoHHto2B2Tau_kl-1p00_kt-1p00_c2-0p00_LHEweights_TuneCP5_13p6TeV_powheg-pythia8 by its xsec and lumi - remember to remove after fixing in the processor!\n",
      "  raise ValueError(f\"{sample} has not been scaled by its xsec and lumi!\")\n",
      "INFO:boostedhh.utils:Loaded GluGlutoHHto2B2Tau_kl-1p00_kt-1p00_c2-0p00_LHEweights_TuneCP5_13p6TeV_powheg-pythia8: 21348 entries\n"
     ]
    },
    {
     "name": "stdout",
     "output_type": "stream",
     "text": [
      "\n",
      "         Preselection\n",
      "jetmet  5.006317e+07\n",
      "tau     3.461027e+06\n",
      "bbtt    1.081920e+04\n"
     ]
    }
   ],
   "source": [
    "pt_cut = 250\n",
    "# msd_cut = 40\n",
    "\n",
    "filters = [\n",
    "    [\n",
    "        (\"('ak8FatJetPt', '0')\", \">=\", pt_cut),\n",
    "        (\"('ak8FatJetPt', '1')\", \">=\", pt_cut),\n",
    "        # (\"('ak8FatJetMsd', '0')\", \">=\", msd_cut),\n",
    "        # (\"('ak8FatJetMsd', '1')\", \">=\", msd_cut),\n",
    "        # (\"('ak8FatJetPNetXbb', '0')\", \">=\", 0.8),\n",
    "    ],\n",
    "]\n",
    "\n",
    "# save cutflow as pandas table\n",
    "cutflow = pd.DataFrame(index=list(samples.keys()))\n",
    "\n",
    "# dictionary that will contain all information (from all samples)\n",
    "events_dict = {}\n",
    "for key, sample in samples.items():\n",
    "    events_dict[key] = utils.load_sample(sample, filters)\n",
    "\n",
    "utils.add_to_cutflow(events_dict, \"Preselection\", \"finalWeight\", cutflow)\n",
    "print(\"\\n\", cutflow)"
   ]
  },
  {
   "cell_type": "code",
   "execution_count": null,
   "metadata": {},
   "outputs": [],
   "source": []
  }
 ],
 "metadata": {
  "kernelspec": {
   "display_name": "hh",
   "language": "python",
   "name": "python3"
  },
  "language_info": {
   "codemirror_mode": {
    "name": "ipython",
    "version": 3
   },
   "file_extension": ".py",
   "mimetype": "text/x-python",
   "name": "python",
   "nbconvert_exporter": "python",
   "pygments_lexer": "ipython3",
   "version": "3.11.0"
  }
 },
 "nbformat": 4,
 "nbformat_minor": 2
}
