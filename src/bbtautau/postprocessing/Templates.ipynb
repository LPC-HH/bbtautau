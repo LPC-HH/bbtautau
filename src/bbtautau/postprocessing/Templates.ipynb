{
 "cells": [
  {
   "cell_type": "markdown",
   "metadata": {},
   "source": [
    "# Templates\n",
    "\n",
    "Author(s): Raghav Kansal"
   ]
  },
  {
   "cell_type": "code",
   "execution_count": null,
   "metadata": {},
   "outputs": [],
   "source": [
    "from pathlib import Path\n",
    "\n",
    "import pandas as pd\n",
    "import numpy as np\n",
    "\n",
    "import matplotlib.pyplot as plt\n",
    "import mplhep as hep\n",
    "from matplotlib import colors\n",
    "\n",
    "from boostedhh import utils, hh_vars\n",
    "from boostedhh.utils import PAD_VAL, Cutflow\n",
    "from bbtautau.postprocessing import Samples, Regions, postprocessing, plotting\n",
    "from bbtautau.postprocessing.Samples import CHANNELS, SAMPLES, SIGNALS\n",
    "import bbtautau.postprocessing.utils as putils\n",
    "from bbtautau.postprocessing.utils import LoadedSample\n",
    "from bbtautau.postprocessing.plotting import ratioHistPlot\n",
    "\n",
    "import logging\n",
    "\n",
    "logging.basicConfig(level=logging.INFO, format=\"%(asctime)s - %(levelname)s - %(message)s\")\n",
    "logger = logging.getLogger(\"boostedhh.utils\")\n",
    "logger.setLevel(logging.DEBUG)"
   ]
  },
  {
   "cell_type": "code",
   "execution_count": null,
   "metadata": {},
   "outputs": [],
   "source": [
    "# automatically reloads imported files on edits\n",
    "%load_ext autoreload\n",
    "%autoreload 2"
   ]
  },
  {
   "cell_type": "code",
   "execution_count": null,
   "metadata": {},
   "outputs": [],
   "source": [
    "MAIN_DIR = Path(\"../../../\")\n",
    "CHANNEL = CHANNELS[\"he\"]  # options: \"hh\", \"he\", \"hm\"\n",
    "\n",
    "tag = \"25Aug4_replayMay26Cuts\"\n",
    "year = \"2022\"\n",
    "\n",
    "plot_dir = MAIN_DIR / f\"plots/Templates/{tag}/{CHANNEL.key}\"\n",
    "plot_dir.mkdir(parents=True, exist_ok=True)\n",
    "\n",
    "templates_dir = Path(f\"./templates/{tag}/{CHANNEL.key}\")\n",
    "(templates_dir / \"cutflows\" / year).mkdir(parents=True, exist_ok=True)\n",
    "\n",
    "base_dir = Path(\"/ceph/cms/store/user/rkansal/bbtautau/skimmer/\")\n",
    "data_paths = {\n",
    "    \"signal\": base_dir / \"25Apr17bbpresel_v12_private_signal\",\n",
    "    \"data\": base_dir / \"25Apr17bbpresel_v12_private_signal\",\n",
    "    \"bg\": base_dir / \"25Apr17bbpresel_v12_private_signal\",\n",
    "}\n",
    "\n",
    "sigs = {s + CHANNEL.key: SAMPLES[s + CHANNEL.key] for s in SIGNALS}\n",
    "bgs = {bkey: b for bkey, b in SAMPLES.items() if b.get_type() == \"bg\"}"
   ]
  },
  {
   "cell_type": "code",
   "execution_count": null,
   "metadata": {},
   "outputs": [],
   "source": [
    "from bbtautau.HLTs import HLTs\n",
    "\n",
    "trigdict = postprocessing.trigger_filter(HLTs.hlts_list_by_dtype(year), year)\n",
    "trigdict[\"signal\"]"
   ]
  },
  {
   "cell_type": "markdown",
   "metadata": {},
   "source": [
    "## Load samples"
   ]
  },
  {
   "cell_type": "code",
   "execution_count": null,
   "metadata": {},
   "outputs": [],
   "source": [
    "# dictionary that will contain all information (from all samples)\n",
    "events_dict = postprocessing.load_samples(\n",
    "    year,\n",
    "    CHANNEL,\n",
    "    data_paths,\n",
    "    load_data=True,\n",
    "    load_bgs=True,\n",
    "    filters_dict=postprocessing.bb_filters(num_fatjets=3, bb_cut=0.8),\n",
    "    loaded_samples=True,\n",
    ")\n",
    "cutflow = utils.Cutflow(samples=events_dict)\n",
    "cutflow.add_cut(events_dict, \"Preselection\", \"finalWeight\")\n",
    "cutflow.cutflow"
   ]
  },
  {
   "cell_type": "markdown",
   "metadata": {},
   "source": [
    "Triggers"
   ]
  },
  {
   "cell_type": "code",
   "execution_count": null,
   "metadata": {},
   "outputs": [],
   "source": [
    "postprocessing.apply_triggers(events_dict, year, CHANNEL)\n",
    "cutflow.add_cut(events_dict, \"Triggers\", \"finalWeight\")\n",
    "cutflow.cutflow"
   ]
  },
  {
   "cell_type": "markdown",
   "metadata": {},
   "source": [
    "bbtautau assignment"
   ]
  },
  {
   "cell_type": "code",
   "execution_count": null,
   "metadata": {},
   "outputs": [],
   "source": [
    "postprocessing.bbtautau_assignment(events_dict, CHANNEL)"
   ]
  },
  {
   "cell_type": "markdown",
   "metadata": {},
   "source": [
    "Templates"
   ]
  },
  {
   "cell_type": "code",
   "execution_count": null,
   "metadata": {},
   "outputs": [],
   "source": [
    "# CHANNEL = Samples.CHANNELS[\"hh\"]  # reload for new cuts\n",
    "templates = postprocessing.get_templates(\n",
    "    events_dict,\n",
    "    year,\n",
    "    sigs,\n",
    "    bgs,\n",
    "    CHANNEL,\n",
    "    postprocessing.shape_vars,\n",
    "    {},\n",
    "    pass_ylim=150,\n",
    "    fail_ylim=1e5,\n",
    "    sig_scale_dict={f\"bbtt{CHANNEL.key}\": 300, f\"vbfbbtt-k2v0{CHANNEL.key}\": 40},\n",
    "    plot_dir=plot_dir,\n",
    "    template_dir=templates_dir,\n",
    "    show=True,\n",
    ")"
   ]
  },
  {
   "cell_type": "code",
   "execution_count": null,
   "metadata": {},
   "outputs": [],
   "source": [
    "postprocessing.save_templates(\n",
    "    templates, templates_dir / f\"{year}_templates.pkl\", True, postprocessing.shape_vars\n",
    ")"
   ]
  },
  {
   "cell_type": "markdown",
   "metadata": {},
   "source": [

    "Next part is independent"
   ]
  },
  {
   "cell_type": "code",
   "execution_count": null,
   "metadata": {},
   "outputs": [],
   "source": [
    "import pickle\n",
    "from bbtautau.postprocessing.datacardHelpers import rem_neg, sum_templates\n",
    "\n",
    "bmin = 1\n",
    "\n",
    "for ch in CHANNELS:\n",
    "\n",
    "    templates_dir = f\"/home/users/lumori/bbtautau/src/bbtautau/postprocessing/templates/25Aug4_replayMay26Cuts/bmin_{bmin}/{ch}\"\n",
    "\n",
    "    templates_dict = {}\n",
    "    for year in hh_vars.years:\n",
    "        with Path(f\"{templates_dir}/{year}_templates.pkl\").open(\"rb\") as f:\n",
    "            templates_dict[year] = rem_neg(pickle.load(f))\n",
    "\n",
    "    templates_summed = sum_templates(templates_dict, hh_vars.years)\n",
    "\n",
    "    print(CHANNELS[ch].key)\n",
    "\n",
    "    ratioHistPlot(\n",
    "        templates_summed[\"pass\"],\n",
    "        \"2022-2023\",\n",
    "        CHANNELS[ch],\n",
    "        [f\"bbtt{CHANNELS[ch].key}\"],\n",
    "        [\"ttbarhad\", \"ttbarsl\", \"ttbarll\", \"wjets\", \"zjets\", \"hbb\", \"qcd\"],\n",
    "        plot_ratio=True,\n",
    "        plot_significance=False,\n",
    "        show=True,\n",
    "        sig_scale_dict={\n",
    "            f\"bbtt{CHANNELS[ch].key}\": 30.0,\n",
    "        },\n",
    "    )"
   ]
  },
  {
   "cell_type": "code",
   "execution_count": null,
   "metadata": {},
   "outputs": [],
   "source": [
    "if \"Sample\" in [ax.name for ax in templates_summed[\"pass\"].axes]:\n",
    "    sample_axis = templates_summed[\"pass\"].axes.name.index(\"Sample\")\n",
    "    # Get all available sample names\n",
    "    sample_names = templates_summed[\"pass\"].axes[sample_axis]\n",
    "    print(\"Available samples:\", list(sample_names))\n",
    "\n",
    "    # Pick a sample to inspect: \"bbtthh\"\n",
    "    sample_to_check = \"bbtthh\"\n",
    "    if sample_to_check in sample_names:\n",
    "        # Project to the sample - use \"Sample\" as the key\n",
    "        h_sample = templates_summed[\"pass\"][{\"Sample\": sample_to_check}]\n",
    "        # Sum all weights in this sample\n",
    "        total_weight = h_sample.values().sum()\n",
    "        print(f\"Total weight for sample '{sample_to_check}':\", total_weight)\n",
    "        print(f\"Histogram shape for '{sample_to_check}':\", h_sample.shape)\n",
    "        print(f\"Mass axis (bbFatJetParTmassResApplied) bins:\", h_sample.axes[0].edges[5:9])\n",
    "\n",
    "        # Also show the weights per bin\n",
    "        print(f\"Weights per bin for '{sample_to_check}':\", np.array(h_sample.values())[5:9])\n",
    "\n",
    "        tot_sig_w = np.array(h_sample.values())[5:9].sum()\n",
    "        print(f\"Total weights in signal bins for '{sample_to_check}':\", tot_sig_w)\n",
    "    else:\n",
    "        print(f\"Sample '{sample_to_check}' not found in histogram.\")\n",
    "else:\n",
    "    print(\"No 'Sample' axis found in histogram.\")"
   ]
  },
  {
   "cell_type": "code",
   "execution_count": null,
   "metadata": {},
   "outputs": [],
   "source": [
    "from bbtautau.postprocessing.SensitivityStudy import FOMS\n",
    "\n",
    "fom = FOMS[\"2sqrtB_S_var\"].fom_func\n",
    "\n",
    "for ch in CHANNELS:\n",
    "\n",
    "    templates_dir = (\n",
    "        f\"/home/users/lumori/bbtautau/src/bbtautau/postprocessing/templates/25Aug4_replayMay26Cuts/bmin_{bmin}/{ch}\"\n",
    "        # f\"/home/users/lumori/bbtautau/src/bbtautau/postprocessing/templates/25July31/nobbttpresel_noNormSig_noBkgConstraint_ParT/bmin_{bmin}/{ch}\"\n",
    "    )\n",
    "\n",
    "    templates_dict = {}\n",
    "    for year in hh_vars.years:\n",
    "        with Path(f\"{templates_dir}/{year}_templates.pkl\").open(\"rb\") as f:\n",
    "            templates_dict[year] = rem_neg(pickle.load(f))\n",
    "\n",
    "    templates_summed = sum_templates(templates_dict, hh_vars.years)\n",
    "\n",
    "    sig_w_res = np.array(templates_summed[\"pass\"][{\"Sample\": \"bbtt\" + ch}].values())[5:9].sum()\n",
    "    bkg_w_sb = (\n",
    "        np.array(templates_summed[\"pass\"][{\"Sample\": \"data\"}].values())[:5].sum()\n",
    "        + np.array(templates_summed[\"pass\"][{\"Sample\": \"data\"}].values())[9:].sum()\n",
    "    )\n",
    "\n",
    "    print(f\"Signal weight in resonant region for {ch}: {sig_w_res}\")\n",
    "    print(f\"Background weight in sideband region for {ch}: {bkg_w_sb}\")\n",
    "\n",
    "    print(f\"FOM for {ch}: {fom( bkg_w_sb, sig_w_res, 0.295)}\")"
   ]
  },
  {
   "cell_type": "code",
   "execution_count": null,
   "metadata": {},
   "outputs": [],
   "source": [
    "plotting.ratioHistPlot(\n",
    "    templates_summed[\"pass\"],\n",
    "    \"2022-2023\",\n",
    "    CHANNELS[\"hm\"],\n",
    "    [\"bbtthm\"],\n",
    "    [\"ttbarhad\", \"ttbarsl\", \"ttbarll\", \"wjets\", \"zjets\", \"hbb\"],\n",
    "    plot_ratio=True,\n",
    "    plot_significance=False,\n",
    "    show=True,\n",
    ")"
   ]
  }
 ],
 "metadata": {
  "kernelspec": {
   "display_name": "Python 3",
   "language": "python",
   "name": "python3"
  },
  "language_info": {
   "codemirror_mode": {
    "name": "ipython",
    "version": 3
   },
   "file_extension": ".py",
   "mimetype": "text/x-python",
   "name": "python",
   "nbconvert_exporter": "python",
   "pygments_lexer": "ipython3",
   "version": "3.11.0"
  }
 },
 "nbformat": 4,
 "nbformat_minor": 2
}
