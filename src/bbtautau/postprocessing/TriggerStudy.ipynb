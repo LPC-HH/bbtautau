{
 "cells": [
  {
   "cell_type": "code",
   "execution_count": null,
   "metadata": {},
   "outputs": [],
   "source": [
    "from pathlib import Path\n",
    "\n",
    "import pandas as pd\n",
    "import numpy as np\n",
    "\n",
    "import matplotlib.pyplot as plt\n",
    "import mplhep as hep\n",
    "from matplotlib import colors\n",
    "\n",
    "from boostedhh import utils, hh_vars"
   ]
  },
  {
   "cell_type": "code",
   "execution_count": null,
   "metadata": {},
   "outputs": [],
   "source": [
    "# automatically reloads imported files on edits\n",
    "%load_ext autoreload\n",
    "%autoreload 2"
   ]
  },
  {
   "cell_type": "code",
   "execution_count": null,
   "metadata": {},
   "outputs": [],
   "source": [
    "MAIN_DIR = Path(\"../../../\")\n",
    "\n",
    "plot_dir = MAIN_DIR / \"plots/TriggerStudy/24Nov8\"\n",
    "plot_dir.mkdir(parents=True, exist_ok=True)"
   ]
  },
  {
   "cell_type": "code",
   "execution_count": null,
   "metadata": {},
   "outputs": [],
   "source": [
    "df = pd.read_parquet(\n",
    "    \"/ceph/cms/store/user/rkansal/bbtautau/skimmer/24Nov7SignalStudy_v12_private_signal/parquet/\"\n",
    ")"
   ]
  },
  {
   "cell_type": "code",
   "execution_count": null,
   "metadata": {},
   "outputs": [],
   "source": [
    "df"
   ]
  },
  {
   "cell_type": "code",
   "execution_count": null,
   "metadata": {},
   "outputs": [],
   "source": [
    "ptaus = df[\"ak8FatJetParTXtauhtauh\"] + df[\"ak8FatJetParTXtauhtaue\"] + df[\"ak8FatJetParTXtauhtaum\"]\n",
    "plt.hist(ptaus[1], np.linspace(0, 1, 100))\n",
    "# df[\"ak8FatJetParTXtauhtauh\"]"
   ]
  },
  {
   "cell_type": "code",
   "execution_count": null,
   "metadata": {},
   "outputs": [],
   "source": [
    "df4b = pd.read_parquet(\n",
    "    \"/ceph/cms/store/user/rkansal/bbtautau/skimmer/24Nov7SignalStudy_v12_private_signal/2022/GluGlutoHHto4B_kl-1p00_kt-1p00_c2-0p00_LHEweights_TuneCP5_13p6TeV_powheg-pythia8/parquet\"\n",
    ")"
   ]
  },
  {
   "cell_type": "code",
   "execution_count": null,
   "metadata": {},
   "outputs": [],
   "source": [
    "cf = utils.get_cutflow(\n",
    "    \"/ceph/cms/store/user/rkansal/bbtautau/skimmer/24Nov7SignalStudy_v12_private_signal/pickles/\",\n",
    "    \"2022\",\n",
    "    \"GluGlutoHHto2B2Tau_kl-1p00_kt-1p00_c2-0p00_LHEweights_TuneCP5_13p6TeV_powheg-pythia8\",\n",
    ")"
   ]
  },
  {
   "cell_type": "code",
   "execution_count": null,
   "metadata": {},
   "outputs": [],
   "source": [
    "cf4b = utils.get_cutflow(\n",
    "    \"/ceph/cms/store/user/rkansal/bbtautau/skimmer/24Nov7SignalStudy_v12_private_signal/2022/GluGlutoHHto4B_kl-1p00_kt-1p00_c2-0p00_LHEweights_TuneCP5_13p6TeV_powheg-pythia8/pickles/\",\n",
    "    \"2022\",\n",
    "    \"GluGlutoHHto4B_kl-1p00_kt-1p00_c2-0p00_LHEweights_TuneCP5_13p6TeV_powheg-pythia8\",\n",
    ")"
   ]
  },
  {
   "cell_type": "code",
   "execution_count": null,
   "metadata": {},
   "outputs": [],
   "source": [
    "cf[\"ak8_pt\"] / cf[\"all\"]"
   ]
  },
  {
   "cell_type": "code",
   "execution_count": null,
   "metadata": {},
   "outputs": [],
   "source": [
    "cf4b[\"ak8_pt\"] / cf4b[\"all\"]"
   ]
  },
  {
   "cell_type": "code",
   "execution_count": null,
   "metadata": {},
   "outputs": [],
   "source": [
    "np.mean((df[\"ak8FatJetPt\"][1] > 250))"
   ]
  },
  {
   "cell_type": "code",
   "execution_count": null,
   "metadata": {},
   "outputs": [],
   "source": [
    "np.mean((df4b[\"ak8FatJetPt\"][1] > 250))"
   ]
  },
  {
   "cell_type": "code",
   "execution_count": null,
   "metadata": {},
   "outputs": [],
   "source": [
    "np.sum((df[\"ak8FatJetPt\"][1] > 250) * df[\"GenTauhe\"][0]) / np.sum(df[\"GenTauhe\"][0])"
   ]
  },
  {
   "cell_type": "code",
   "execution_count": null,
   "metadata": {},
   "outputs": [],
   "source": [
    "# Tau triggers Run 3 https://twiki.cern.ch/twiki/bin/view/CMSPublic/Run3TauHLT\n",
    "\n",
    "triggers_dict = {\n",
    "    \"tauhh\": {\n",
    "        \"mask\": df[\"GenTauhh\"][0],\n",
    "        \"label\": r\"$\\tau_h\\tau_h$\",\n",
    "        \"triggers\": {\n",
    "            \"ParticleNetBB\": df[\"HLT_AK8PFJet250_SoftDropMass40_PFAK8ParticleNetBB0p35\"][0],\n",
    "            \"Di-tau\": df[\"HLT_DoubleMediumDeepTauPFTauHPS35_L2NN_eta2p1\"][0]\n",
    "            | df[\"HLT_DoubleMediumDeepTauPFTauHPS30_L2NN_eta2p1_PFJet60\"][0]\n",
    "            | df[\"HLT_DoubleMediumDeepTauPFTauHPS30_L2NN_eta2p1_PFJet75\"][0],\n",
    "            \"ParticleNetBB | PFJet425\": (\n",
    "                df[\"HLT_AK8PFJet425_SoftDropMass40\"][0]\n",
    "                | df[\"HLT_AK8PFJet250_SoftDropMass40_PFAK8ParticleNetBB0p35\"][0]\n",
    "            ),\n",
    "            \"ParticleNetBB | PFJet425 | Di-tau\": (\n",
    "                df[\"HLT_AK8PFJet425_SoftDropMass40\"][0]\n",
    "                | df[\"HLT_AK8PFJet250_SoftDropMass40_PFAK8ParticleNetBB0p35\"][0]\n",
    "                | df[\"HLT_DoubleMediumDeepTauPFTauHPS35_L2NN_eta2p1\"][0]\n",
    "                | df[\"HLT_DoubleMediumDeepTauPFTauHPS30_L2NN_eta2p1_PFJet60\"][0]\n",
    "                | df[\"HLT_DoubleMediumDeepTauPFTauHPS30_L2NN_eta2p1_PFJet75\"][0]\n",
    "            ),\n",
    "        },\n",
    "    },\n",
    "    \"tauhmu\": {\n",
    "        \"mask\": df[\"GenTauhmu\"][0],\n",
    "        \"label\": r\"$\\tau_h\\mu$\",\n",
    "        \"triggers\": {\n",
    "            \"ParticleNetBB\": df[\"HLT_AK8PFJet250_SoftDropMass40_PFAK8ParticleNetBB0p35\"][0],\n",
    "            \"IsoMu24 | Mu50\": (df[\"HLT_IsoMu24\"][0] | df[\"HLT_Mu50\"][0]),\n",
    "            \"ParticleNetBB | IsoMu24 | Mu50\": (\n",
    "                df[\"HLT_AK8PFJet250_SoftDropMass40_PFAK8ParticleNetBB0p35\"][0]\n",
    "                | df[\"HLT_IsoMu24\"][0]\n",
    "                | df[\"HLT_Mu50\"][0]\n",
    "            ),\n",
    "            \"ParticleNetBB | IsoMu24 | Mu50 | Mu-tau\": (\n",
    "                df[\"HLT_AK8PFJet250_SoftDropMass40_PFAK8ParticleNetBB0p35\"][0]\n",
    "                | df[\"HLT_IsoMu24\"][0]\n",
    "                | df[\"HLT_Mu50\"][0]\n",
    "                | df[\"HLT_IsoMu20_eta2p1_LooseDeepTauPFTauHPS27_eta2p1_CrossL1\"][0]\n",
    "                | df[\"HLT_IsoMu24_eta2p1_LooseDeepTauPFTauHPS180_eta2p1\"][0]\n",
    "                | df[\"HLT_IsoMu24_eta2p1_LooseDeepTauPFTauHPS30_eta2p1_CrossL1\"][0]\n",
    "                | df[\"HLT_IsoMu24_eta2p1_MediumDeepTauPFTauHPS35_L2NN_eta2p1_CrossL1\"][0]\n",
    "                | df[\"HLT_IsoMu24_eta2p1_MediumDeepTauPFTauHPS30_L2NN_eta2p1_CrossL1\"][0]\n",
    "                | df[\"HLT_IsoMu24_eta2p1_MediumDeepTauPFTauHPS45_L2NN_eta2p1_CrossL1\"][0]\n",
    "                | df[\"HLT_IsoMu20_eta2p1_TightChargedIsoPFTauHPS27_eta2p1_CrossL1\"][0]\n",
    "                | df[\"HLT_IsoMu20_eta2p1_TightChargedIsoPFTauHPS27_eta2p1_TightID_CrossL1\"][0]\n",
    "            ),\n",
    "            \"ParticleNetBB | IsoMu24 | Mu50 | Mu-tau+Jet\": (\n",
    "                df[\"HLT_AK8PFJet250_SoftDropMass40_PFAK8ParticleNetBB0p35\"][0]\n",
    "                | df[\"HLT_IsoMu24\"][0]\n",
    "                | df[\"HLT_Mu50\"][0]\n",
    "                | df[\"HLT_IsoMu20_eta2p1_LooseDeepTauPFTauHPS27_eta2p1_CrossL1\"][0]\n",
    "                | df[\"HLT_IsoMu24_eta2p1_LooseDeepTauPFTauHPS180_eta2p1\"][0]\n",
    "                | df[\"HLT_IsoMu24_eta2p1_LooseDeepTauPFTauHPS30_eta2p1_CrossL1\"][0]\n",
    "                | df[\"HLT_IsoMu24_eta2p1_MediumDeepTauPFTauHPS35_L2NN_eta2p1_CrossL1\"][0]\n",
    "                | df[\"HLT_IsoMu24_eta2p1_MediumDeepTauPFTauHPS30_L2NN_eta2p1_CrossL1\"][0]\n",
    "                | df[\"HLT_IsoMu24_eta2p1_MediumDeepTauPFTauHPS45_L2NN_eta2p1_CrossL1\"][0]\n",
    "                | df[\"HLT_IsoMu20_eta2p1_TightChargedIsoPFTauHPS27_eta2p1_CrossL1\"][0]\n",
    "                | df[\"HLT_IsoMu20_eta2p1_TightChargedIsoPFTauHPS27_eta2p1_TightID_CrossL1\"][0]\n",
    "                | df[\"HLT_IsoMu24_eta2p1_MediumDeepTauPFTauHPS30_L2NN_eta2p1_PFJet60_CrossL1\"][0]\n",
    "                | df[\"HLT_IsoMu24_eta2p1_MediumDeepTauPFTauHPS30_L2NN_eta2p1_PFJet75_CrossL1\"][0]\n",
    "            ),\n",
    "        },\n",
    "    },\n",
    "    \"tauhe\": {\n",
    "        \"mask\": df[\"GenTauhe\"][0],\n",
    "        \"label\": r\"$\\tau_he$\",\n",
    "        \"triggers\": {\n",
    "            \"ParticleNetBB\": df[\"HLT_AK8PFJet250_SoftDropMass40_PFAK8ParticleNetBB0p35\"][0],\n",
    "            \"Electron\": (\n",
    "                df[\"HLT_Ele30_WPTight_Gsf\"][0]\n",
    "                | df[\"HLT_Ele115_CaloIdVT_GsfTrkIdT\"][0]\n",
    "                | df[\"HLT_Ele50_CaloIdVT_GsfTrkIdT_PFJet165\"][0]\n",
    "                # | df[\"HLT_Photon200\"][0]\n",
    "            ),\n",
    "            \"ParticleNetBB | Electron\": (\n",
    "                df[\"HLT_AK8PFJet250_SoftDropMass40_PFAK8ParticleNetBB0p35\"][0]\n",
    "                | df[\"HLT_Ele30_WPTight_Gsf\"][0]\n",
    "                | df[\"HLT_Ele115_CaloIdVT_GsfTrkIdT\"][0]\n",
    "                | df[\"HLT_Ele50_CaloIdVT_GsfTrkIdT_PFJet165\"][0]\n",
    "                # | df[\"HLT_Photon200\"][0]\n",
    "            ),\n",
    "            \"ParticleNetBB | Electron | E-tau\": (\n",
    "                df[\"HLT_AK8PFJet250_SoftDropMass40_PFAK8ParticleNetBB0p35\"][0]\n",
    "                | df[\"HLT_Ele30_WPTight_Gsf\"][0]\n",
    "                | df[\"HLT_Ele115_CaloIdVT_GsfTrkIdT\"][0]\n",
    "                | df[\"HLT_Ele50_CaloIdVT_GsfTrkIdT_PFJet165\"][0]\n",
    "                | df[\"HLT_Photon200\"][0]\n",
    "                | df[\"HLT_Ele24_eta2p1_WPTight_Gsf_LooseDeepTauPFTauHPS30_eta2p1_CrossL1\"][0]\n",
    "                | df[\"HLT_Ele24_eta2p1_WPTight_Gsf_TightChargedIsoPFTauHPS30_eta2p1_CrossL1\"][0]\n",
    "            ),\n",
    "        },\n",
    "    },\n",
    "}"
   ]
  },
  {
   "cell_type": "code",
   "execution_count": null,
   "metadata": {},
   "outputs": [],
   "source": [
    "twoboosted = df[\"ak8FatJetPt\"][1] > 300"
   ]
  },
  {
   "cell_type": "code",
   "execution_count": null,
   "metadata": {},
   "outputs": [],
   "source": [
    "mask = triggers_dict[\"tauhh\"][\"mask\"]\n",
    "print(\n",
    "    np.sum(triggers_dict[\"tauhh\"][\"triggers\"][\"ParticleNetBB | PFJet425 | Di-tau\"][mask])\n",
    "    / np.sum(mask)\n",
    ")\n",
    "print(\n",
    "    np.sum(\n",
    "        ((triggers_dict[\"tauhh\"][\"triggers\"][\"ParticleNetBB | PFJet425 | Di-tau\"]) * twoboosted)[\n",
    "            mask\n",
    "        ]\n",
    "    )\n",
    "    / np.sum((mask * twoboosted))\n",
    ")"
   ]
  },
  {
   "cell_type": "code",
   "execution_count": null,
   "metadata": {},
   "outputs": [],
   "source": [
    "mask = triggers_dict[\"tauhmu\"][\"mask\"]\n",
    "print(\n",
    "    np.sum(triggers_dict[\"tauhmu\"][\"triggers\"][\"ParticleNetBB | IsoMu24 | Mu50 | Mu-tau+Jet\"][mask])\n",
    "    / np.sum(mask)\n",
    ")\n",
    "print(\n",
    "    np.sum(\n",
    "        (\n",
    "            (triggers_dict[\"tauhmu\"][\"triggers\"][\"ParticleNetBB | IsoMu24 | Mu50 | Mu-tau+Jet\"])\n",
    "            * twoboosted\n",
    "        )[mask]\n",
    "    )\n",
    "    / np.sum((mask * twoboosted))\n",
    ")"
   ]
  },
  {
   "cell_type": "code",
   "execution_count": null,
   "metadata": {},
   "outputs": [],
   "source": [
    "mask = triggers_dict[\"tauhe\"][\"mask\"]\n",
    "print(\n",
    "    np.sum(triggers_dict[\"tauhe\"][\"triggers\"][\"ParticleNetBB | Electron | E-tau\"][mask])\n",
    "    / np.sum(mask)\n",
    ")\n",
    "print(\n",
    "    np.sum(\n",
    "        ((triggers_dict[\"tauhe\"][\"triggers\"][\"ParticleNetBB | Electron | E-tau\"]) * twoboosted)[\n",
    "            mask\n",
    "        ]\n",
    "    )\n",
    "    / np.sum((mask * twoboosted))\n",
    ")"
   ]
  },
  {
   "cell_type": "code",
   "execution_count": null,
   "metadata": {},
   "outputs": [],
   "source": [
    "weights = df[\"weight\"][0]"
   ]
  },
  {
   "cell_type": "code",
   "execution_count": null,
   "metadata": {},
   "outputs": [],
   "source": [
    "higgs = utils.make_vector(df, name=\"GenHiggs\")\n",
    "mhh = (higgs[:, 0] + higgs[:, 1]).mass"
   ]
  },
  {
   "cell_type": "code",
   "execution_count": null,
   "metadata": {},
   "outputs": [],
   "source": [
    "plt.rcParams.update({\"font.size\": 14})\n",
    "\n",
    "for cat, vals in triggers_dict.items():\n",
    "    (mask, label, triggers) = vals.values()\n",
    "\n",
    "    fig, (ax, rax) = plt.subplots(\n",
    "        2, 1, figsize=(12, 14), gridspec_kw=dict(height_ratios=[4, 1], hspace=0.07), sharex=True\n",
    "    )\n",
    "\n",
    "    bins = np.linspace(250, 1500, 30)\n",
    "    hists = {\"Preselection\": np.histogram(mhh[mask], bins=bins, weights=weights[mask])}\n",
    "    ratios = {}\n",
    "\n",
    "    hep.histplot(\n",
    "        hists[\"Preselection\"],\n",
    "        yerr=False,\n",
    "        label=\"Preselection\",\n",
    "        ax=ax,\n",
    "    )\n",
    "\n",
    "    colours = plt.cm.tab10.colors[1:]\n",
    "\n",
    "    for key, c in zip(triggers.keys(), colours):\n",
    "        print(key)\n",
    "        hists[key] = np.histogram(\n",
    "            mhh[mask & triggers[key]], bins=bins, weights=weights[mask & triggers[key]]\n",
    "        )\n",
    "        ratios[key] = hists[key][0] / hists[\"Preselection\"][0]\n",
    "\n",
    "        hep.histplot(\n",
    "            hists[key],\n",
    "            yerr=False,\n",
    "            label=key,\n",
    "            ax=ax,\n",
    "            color=c,\n",
    "        )\n",
    "\n",
    "        hep.histplot(\n",
    "            (ratios[key], bins),\n",
    "            yerr=False,\n",
    "            label=key,\n",
    "            ax=rax,\n",
    "            histtype=\"errorbar\",\n",
    "            color=c,\n",
    "            capsize=4,\n",
    "        )\n",
    "\n",
    "    ax.set_ylabel(\"Events [A.U.]\")\n",
    "    ax.legend()\n",
    "    ax.set_title(label)\n",
    "\n",
    "    rax.legend()\n",
    "    rax.grid(axis=\"y\")\n",
    "    rax.set_xlabel(r\"$m_{HH}$ [GeV]\")\n",
    "    rax.set_ylabel(\"Triggered / Preselection\")\n",
    "    rax.set_ylim(0, 1)\n",
    "\n",
    "    hep.cms.label(ax=ax, data=False, year=2022, com=\"13.6\")\n",
    "\n",
    "    plt.savefig(plot_dir / f\"mhh_{cat}.pdf\", bbox_inches=\"tight\")\n",
    "    plt.show()"
   ]
  },
  {
   "cell_type": "markdown",
   "metadata": {},
   "source": [
    "4b triggers"
   ]
  },
  {
   "cell_type": "code",
   "execution_count": null,
   "metadata": {},
   "outputs": [],
   "source": [
    "df[\"HLT_AK8PFJet250_SoftDropMass40_PFAK8ParticleNetBB0p35\"]"
   ]
  },
  {
   "cell_type": "code",
   "execution_count": null,
   "metadata": {},
   "outputs": [],
   "source": [
    "bbbb_triggered = (\n",
    "    df4b[\"HLT_AK8PFJet250_SoftDropMass40_PFAK8ParticleNetBB0p35\"][0]\n",
    "    | df4b[\"HLT_AK8PFJet425_SoftDropMass40\"][0]\n",
    ")\n",
    "higgs = utils.make_vector(df4b, name=\"GenHiggs\")\n",
    "mhh = (higgs[:, 0] + higgs[:, 1]).mass\n",
    "weights = df4b[\"weight\"][0]"
   ]
  },
  {
   "cell_type": "code",
   "execution_count": null,
   "metadata": {},
   "outputs": [],
   "source": [
    "plt.rcParams.update({\"font.size\": 14})\n",
    "\n",
    "cat = \"bbbb\"\n",
    "(mask, label, triggers) = (\n",
    "    np.ones(len(df4b)).astype(bool),\n",
    "    \"HH4b\",\n",
    "    {\"ParticleNetBB | PFJet425 \": bbbb_triggered},\n",
    ")\n",
    "\n",
    "fig, (ax, rax) = plt.subplots(\n",
    "    2, 1, figsize=(12, 14), gridspec_kw=dict(height_ratios=[4, 1], hspace=0.07), sharex=True\n",
    ")\n",
    "\n",
    "bins = np.linspace(250, 1500, 30)\n",
    "hists = {\"Preselection\": np.histogram(mhh[mask], bins=bins, weights=weights[mask])}\n",
    "ratios = {}\n",
    "\n",
    "hep.histplot(\n",
    "    hists[\"Preselection\"],\n",
    "    yerr=False,\n",
    "    label=\"Preselection\",\n",
    "    ax=ax,\n",
    ")\n",
    "\n",
    "colours = plt.cm.tab10.colors[1:]\n",
    "\n",
    "for key, c in zip(triggers.keys(), colours):\n",
    "    print(key)\n",
    "    hists[key] = np.histogram(\n",
    "        mhh[mask & triggers[key]], bins=bins, weights=weights[mask & triggers[key]]\n",
    "    )\n",
    "    ratios[key] = hists[key][0] / hists[\"Preselection\"][0]\n",
    "\n",
    "    hep.histplot(\n",
    "        hists[key],\n",
    "        yerr=False,\n",
    "        label=key,\n",
    "        ax=ax,\n",
    "        color=c,\n",
    "    )\n",
    "\n",
    "    hep.histplot(\n",
    "        (ratios[key], bins),\n",
    "        yerr=False,\n",
    "        label=key,\n",
    "        ax=rax,\n",
    "        histtype=\"errorbar\",\n",
    "        color=c,\n",
    "        capsize=4,\n",
    "    )\n",
    "\n",
    "ax.set_ylabel(\"Events [A.U.]\")\n",
    "ax.legend()\n",
    "ax.set_title(label)\n",
    "\n",
    "rax.legend()\n",
    "rax.grid(axis=\"y\")\n",
    "rax.set_xlabel(r\"$m_{HH}$ [GeV]\")\n",
    "rax.set_ylabel(\"Triggered / Preselection\")\n",
    "rax.set_ylim(0, 1)\n",
    "\n",
    "hep.cms.label(ax=ax, data=False, year=2022, com=\"13.6\")\n",
    "\n",
    "plt.savefig(plot_dir / f\"mhh_{cat}.pdf\", bbox_inches=\"tight\")\n",
    "plt.show()"
   ]
  },
  {
   "cell_type": "code",
   "execution_count": null,
   "metadata": {},
   "outputs": [],
   "source": [
    "twoboosted = df4b[\"ak8FatJetPt\"][1] > 300\n",
    "print(np.mean(bbbb_triggered))\n",
    "print(np.sum(bbbb_triggered * twoboosted) / np.sum((twoboosted)))"
   ]
  },
  {
   "cell_type": "code",
   "execution_count": null,
   "metadata": {},
   "outputs": [],
   "source": []
  }
 ],
 "metadata": {
  "kernelspec": {
   "display_name": "hh",
   "language": "python",
   "name": "python3"
  },
  "language_info": {
   "codemirror_mode": {
    "name": "ipython",
    "version": 3
   },
   "file_extension": ".py",
   "mimetype": "text/x-python",
   "name": "python",
   "nbconvert_exporter": "python",
   "pygments_lexer": "ipython3",
   "version": "3.11.0"
  }
 },
 "nbformat": 4,
 "nbformat_minor": 2
}
