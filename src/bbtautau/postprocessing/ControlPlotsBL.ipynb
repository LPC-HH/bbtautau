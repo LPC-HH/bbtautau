{
 "cells": [
  {
   "cell_type": "markdown",
   "metadata": {},
   "source": [
    "# Control Plots\n",
    "\n",
    "Author(s): Raghav Kansal, Haoyang Li"
   ]
  },
  {
   "cell_type": "code",
   "execution_count": 1,
   "metadata": {},
   "outputs": [],
   "source": [
    "from pathlib import Path\n",
    "\n",
    "import pandas as pd\n",
    "import numpy as np\n",
    "\n",
    "import matplotlib.pyplot as plt\n",
    "import mplhep as hep\n",
    "from matplotlib import colors\n",
    "\n",
    "from boostedhh import utils, hh_vars, plotting\n",
    "from boostedhh.utils import PAD_VAL\n",
    "from bbtautau import HLTs\n",
    "import Samples, postprocessing\n",
    "\n",
    "import logging\n",
    "\n",
    "logging.basicConfig(level=logging.INFO, format=\"%(asctime)s - %(levelname)s - %(message)s\")\n",
    "logger = logging.getLogger(\"boostedhh.utils\")\n",
    "logger.setLevel(logging.DEBUG)"
   ]
  },
  {
   "cell_type": "code",
   "execution_count": 2,
   "metadata": {},
   "outputs": [],
   "source": [
    "# automatically reloads imported files on edits\n",
    "%load_ext autoreload\n",
    "%autoreload 2"
   ]
  },
  {
   "cell_type": "code",
   "execution_count": 6,
   "metadata": {},
   "outputs": [],
   "source": [
    "MAIN_DIR = Path(\"../../../\")\n",
    "CHANNEL = Samples.CHANNELS[\"hh\"]  # options: \"hh\", \"he\", \"hm\"\n",
    "\n",
    "plot_dir = MAIN_DIR / f\"plots/ControlPlots/25Apr3{CHANNEL.key}\"\n",
    "plot_dir.mkdir(parents=True, exist_ok=True)\n",
    "\n",
    "year = \"2022\"\n",
    "\n",
    "base_dir = Path(\n",
    "    \"/ceph/cms/store/user/rkansal/bbtautau/skimmer/25Apr6AddVarsReRun_v12_private_signal/\"\n",
    ")\n",
    "data_paths = {\n",
    "    \"signal\": base_dir,\n",
    "    \"data\": base_dir,\n",
    "    \"bg\": base_dir,\n",
    "}"
   ]
  },
  {
   "cell_type": "markdown",
   "metadata": {},
   "source": [
    "## Load samples"
   ]
  },
  {
   "cell_type": "code",
   "execution_count": 7,
   "metadata": {},
   "outputs": [
    {
     "name": "stdout",
     "output_type": "stream",
     "text": [
      "Loading jetmet...\n"
     ]
    },
    {
     "ename": "TypeError",
     "evalue": "'PosixPath' object is not subscriptable",
     "output_type": "error",
     "traceback": [
      "\u001b[31m---------------------------------------------------------------------------\u001b[39m",
      "\u001b[31mTypeError\u001b[39m                                 Traceback (most recent call last)",
      "\u001b[36mCell\u001b[39m\u001b[36m \u001b[39m\u001b[32mIn[7]\u001b[39m\u001b[32m, line 2\u001b[39m\n\u001b[32m      1\u001b[39m \u001b[38;5;66;03m# dictionary that will contain all information (from all samples)\u001b[39;00m\n\u001b[32m----> \u001b[39m\u001b[32m2\u001b[39m events_dict = \u001b[43mpostprocessing\u001b[49m\u001b[43m.\u001b[49m\u001b[43mload_samples\u001b[49m\u001b[43m(\u001b[49m\u001b[43myear\u001b[49m\u001b[43m,\u001b[49m\u001b[43m \u001b[49m\u001b[43mCHANNEL\u001b[49m\u001b[43m,\u001b[49m\u001b[43m \u001b[49m\u001b[43mbase_dir\u001b[49m\u001b[43m)\u001b[49m\n\u001b[32m      3\u001b[39m cutflow = pd.DataFrame(index=\u001b[38;5;28mlist\u001b[39m(events_dict.keys()))\n\u001b[32m      5\u001b[39m utils.add_to_cutflow(events_dict, \u001b[33m\"\u001b[39m\u001b[33mPreselection\u001b[39m\u001b[33m\"\u001b[39m, \u001b[33m\"\u001b[39m\u001b[33mfinalWeight\u001b[39m\u001b[33m\"\u001b[39m, cutflow)\n",
      "\u001b[36mFile \u001b[39m\u001b[32m~/bbtautau/src/bbtautau/postprocessing/postprocessing.py:130\u001b[39m, in \u001b[36mload_samples\u001b[39m\u001b[34m(year, channel, paths, filters_dict, load_columns, load_bgs, load_just_bbtt)\u001b[39m\n\u001b[32m    128\u001b[39m     \u001b[38;5;28;01mif\u001b[39;00m sample.selector \u001b[38;5;129;01mis\u001b[39;00m \u001b[38;5;129;01mnot\u001b[39;00m \u001b[38;5;28;01mNone\u001b[39;00m:\n\u001b[32m    129\u001b[39m         \u001b[38;5;28mprint\u001b[39m(\u001b[33mf\u001b[39m\u001b[33m\"\u001b[39m\u001b[33mLoading \u001b[39m\u001b[38;5;132;01m{\u001b[39;00mkey\u001b[38;5;132;01m}\u001b[39;00m\u001b[33m...\u001b[39m\u001b[33m\"\u001b[39m)\n\u001b[32m--> \u001b[39m\u001b[32m130\u001b[39m         events_dict[key] = \u001b[43mutils\u001b[49m\u001b[43m.\u001b[49m\u001b[43mload_sample\u001b[49m\u001b[43m(\u001b[49m\n\u001b[32m    131\u001b[39m \u001b[43m            \u001b[49m\u001b[43msample\u001b[49m\u001b[43m,\u001b[49m\n\u001b[32m    132\u001b[39m \u001b[43m            \u001b[49m\u001b[43myear\u001b[49m\u001b[43m,\u001b[49m\n\u001b[32m    133\u001b[39m \u001b[43m            \u001b[49m\u001b[43mpaths\u001b[49m\u001b[43m,\u001b[49m\n\u001b[32m    134\u001b[39m \u001b[43m            \u001b[49m\u001b[43mfilters_dict\u001b[49m\u001b[43m[\u001b[49m\u001b[43msample\u001b[49m\u001b[43m.\u001b[49m\u001b[43mget_type\u001b[49m\u001b[43m(\u001b[49m\u001b[43m)\u001b[49m\u001b[43m]\u001b[49m\u001b[43m[\u001b[49m\u001b[43myear\u001b[49m\u001b[43m]\u001b[49m\u001b[43m \u001b[49m\u001b[38;5;28;43;01mif\u001b[39;49;00m\u001b[43m \u001b[49m\u001b[43mfilters_dict\u001b[49m\u001b[43m \u001b[49m\u001b[38;5;129;43;01mis\u001b[39;49;00m\u001b[43m \u001b[49m\u001b[38;5;129;43;01mnot\u001b[39;49;00m\u001b[43m \u001b[49m\u001b[38;5;28;43;01mNone\u001b[39;49;00m\u001b[43m \u001b[49m\u001b[38;5;28;43;01melse\u001b[39;49;00m\u001b[43m \u001b[49m\u001b[38;5;28;43;01mNone\u001b[39;49;00m\u001b[43m,\u001b[49m\n\u001b[32m    135\u001b[39m \u001b[43m        \u001b[49m\u001b[43m)\u001b[49m\n\u001b[32m    137\u001b[39m \u001b[38;5;66;03m# keep only the specified bbtt channel\u001b[39;00m\n\u001b[32m    138\u001b[39m \u001b[38;5;28;01mfor\u001b[39;00m signal \u001b[38;5;129;01min\u001b[39;00m signals:\n",
      "\u001b[36mFile \u001b[39m\u001b[32m~/bbtautau/boostedhh/src/boostedhh/utils.py:413\u001b[39m, in \u001b[36mload_sample\u001b[39m\u001b[34m(sample, year, paths, filters, load_weight_noxsec)\u001b[39m\n\u001b[32m    395\u001b[39m \u001b[38;5;250m\u001b[39m\u001b[33;03m\"\"\"\u001b[39;00m\n\u001b[32m    396\u001b[39m \u001b[33;03mLoads events with an optional filter.\u001b[39;00m\n\u001b[32m    397\u001b[39m \u001b[33;03mDivides MC samples by the total pre-skimming, to take the acceptance into account.\u001b[39;00m\n\u001b[32m   (...)\u001b[39m\u001b[32m    410\u001b[39m \n\u001b[32m    411\u001b[39m \u001b[33;03m\"\"\"\u001b[39;00m\n\u001b[32m    412\u001b[39m \u001b[38;5;28;01mif\u001b[39;00m sample.isData:\n\u001b[32m--> \u001b[39m\u001b[32m413\u001b[39m     sample_path = \u001b[43mpaths\u001b[49m\u001b[43m[\u001b[49m\u001b[33;43m\"\u001b[39;49m\u001b[33;43mdata\u001b[39;49m\u001b[33;43m\"\u001b[39;49m\u001b[43m]\u001b[49m\n\u001b[32m    414\u001b[39m \u001b[38;5;28;01melif\u001b[39;00m sample.isSignal:\n\u001b[32m    415\u001b[39m     sample_path = paths[\u001b[33m\"\u001b[39m\u001b[33msignal\u001b[39m\u001b[33m\"\u001b[39m]\n",
      "\u001b[31mTypeError\u001b[39m: 'PosixPath' object is not subscriptable"
     ]
    }
   ],
   "source": [
    "# dictionary that will contain all information (from all samples)\n",
    "events_dict = postprocessing.load_samples(year, CHANNEL, base_dir)\n",
    "cutflow = pd.DataFrame(index=list(events_dict.keys()))\n",
    "\n",
    "utils.add_to_cutflow(events_dict, \"Preselection\", \"finalWeight\", cutflow)\n",
    "cutflow"
   ]
  },
  {
   "cell_type": "markdown",
   "metadata": {},
   "source": [
    "Triggers"
   ]
  },
  {
   "cell_type": "code",
   "execution_count": null,
   "metadata": {},
   "outputs": [],
   "source": [
    "postprocessing.apply_triggers(events_dict, year, CHANNEL)\n",
    "utils.add_to_cutflow(events_dict, \"Triggers\", \"finalWeight\", cutflow)\n",
    "cutflow"
   ]
  }
 ],
 "metadata": {
  "kernelspec": {
   "display_name": "Python 3 (ipykernel)",
   "language": "python",
   "name": "python3"
  },
  "language_info": {
   "codemirror_mode": {
    "name": "ipython",
    "version": 3
   },
   "file_extension": ".py",
   "mimetype": "text/x-python",
   "name": "python",
   "nbconvert_exporter": "python",
   "pygments_lexer": "ipython3",
   "version": "3.11.0"
  }
 },
 "nbformat": 4,
 "nbformat_minor": 4
}
