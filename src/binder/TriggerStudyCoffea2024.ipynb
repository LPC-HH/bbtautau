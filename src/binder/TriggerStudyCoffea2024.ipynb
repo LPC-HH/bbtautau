{
 "cells": [
  {
   "cell_type": "code",
   "execution_count": null,
   "metadata": {},
   "outputs": [],
   "source": [
    "from pathlib import Path\n",
    "\n",
    "import uproot\n",
    "import awkward as ak\n",
    "import dask_awkward as dak\n",
    "from coffea import nanoevents\n",
    "\n",
    "import numpy as np\n",
    "\n",
    "import matplotlib.pyplot as plt\n",
    "import mplhep as hep\n",
    "from matplotlib import colors"
   ]
  },
  {
   "cell_type": "code",
   "execution_count": null,
   "metadata": {},
   "outputs": [],
   "source": [
    "# automatically reloads imported files on edits\n",
    "%load_ext autoreload\n",
    "%autoreload 2"
   ]
  },
  {
   "cell_type": "code",
   "execution_count": null,
   "metadata": {},
   "outputs": [],
   "source": [
    "MAIN_DIR = Path(\"../\")\n",
    "\n",
    "plot_dir = MAIN_DIR / \"plots/TriggerStudy/24Nov5\"\n",
    "plot_dir.mkdir(parents=True, exist_ok=True)"
   ]
  },
  {
   "cell_type": "code",
   "execution_count": null,
   "metadata": {},
   "outputs": [],
   "source": [
    "d_PDGID = 1\n",
    "u_PDGID = 2\n",
    "s_PDGID = 3\n",
    "c_PDGID = 4\n",
    "b_PDGID = 5\n",
    "g_PDGID = 21\n",
    "TOP_PDGID = 6\n",
    "\n",
    "ELE_PDGID = 11\n",
    "vELE_PDGID = 12\n",
    "MU_PDGID = 13\n",
    "vMU_PDGID = 14\n",
    "TAU_PDGID = 15\n",
    "vTAU_PDGID = 16\n",
    "\n",
    "G_PDGID = 22\n",
    "Z_PDGID = 23\n",
    "W_PDGID = 24\n",
    "HIGGS_PDGID = 25\n",
    "Y_PDGID = 35\n",
    "\n",
    "b_PDGIDS = [511, 521, 523]\n",
    "PI_PDGIDS = [111, 211]\n",
    "\n",
    "GRAV_PDGID = 39\n",
    "\n",
    "GEN_FLAGS = [\"fromHardProcess\", \"isLastCopy\"]"
   ]
  },
  {
   "cell_type": "code",
   "execution_count": null,
   "metadata": {},
   "outputs": [],
   "source": [
    "ak.flatten(\n",
    "    dak.from_lists(\n",
    "        [\n",
    "            [[[[1, 2], [3, 4]], [[5, 6], [7, 8]]], [[[9, 10], [11, 12]], [[13, 14], [15, 16]]]],\n",
    "            [[[[1, 2], [3, 4]], [[5, 6], [7, 8]]], [[[9, 10], [11, 12]], [[13, 14], [15, 16]]]],\n",
    "        ]\n",
    "    ),\n",
    "    axis=3,\n",
    ")"
   ]
  },
  {
   "cell_type": "code",
   "execution_count": null,
   "metadata": {},
   "outputs": [],
   "source": [
    "import json\n",
    "\n",
    "with open(\"./higgs_children.json\", \"r\") as f:\n",
    "    data = json.load(f)"
   ]
  },
  {
   "cell_type": "code",
   "execution_count": null,
   "metadata": {},
   "outputs": [],
   "source": [
    "a = dak.from_json(Path(\"./higgs_children.json\"), line_delimited=False)[0]"
   ]
  },
  {
   "cell_type": "code",
   "execution_count": null,
   "metadata": {},
   "outputs": [],
   "source": [
    "ak.flatten(a, axis=3).compute()"
   ]
  },
  {
   "cell_type": "code",
   "execution_count": null,
   "metadata": {},
   "outputs": [],
   "source": [
    "higgs.children.children.compute()"
   ]
  },
  {
   "cell_type": "code",
   "execution_count": null,
   "metadata": {},
   "outputs": [],
   "source": [
    "higgs.children.children.pdgId.compute()"
   ]
  },
  {
   "cell_type": "code",
   "execution_count": null,
   "metadata": {},
   "outputs": [],
   "source": [
    "ak.flatten()"
   ]
  },
  {
   "cell_type": "code",
   "execution_count": null,
   "metadata": {},
   "outputs": [],
   "source": [
    "ak.flatten(higgs.children.children.pdgId, axis=3)"
   ]
  },
  {
   "cell_type": "code",
   "execution_count": null,
   "metadata": {},
   "outputs": [],
   "source": [
    "ak.flatten(higgs.children.children[:10].compute(), axis=3)"
   ]
  },
  {
   "cell_type": "code",
   "execution_count": null,
   "metadata": {},
   "outputs": [],
   "source": [
    "ak.flatten(higgs.children.children[:10], axis=3)"
   ]
  },
  {
   "cell_type": "code",
   "execution_count": null,
   "metadata": {},
   "outputs": [],
   "source": [
    "events_delayed = nanoevents.NanoEventsFactory.from_root(\n",
    "    {\n",
    "        \"root://cmseos.fnal.gov///store/user/lpcpfnano/cmantill/v2_3/2017/HH/GluGluToHHTobbVV_node_cHHH0_TuneCP5_13TeV-powheg-pythia8/GluGluToHHTobbVV_node_cHHH0/220808_163755/0000/nano_mc2017_1-1.root\": \"Events\"\n",
    "    },\n",
    "    schemaclass=nanoevents.NanoAODSchema,\n",
    "    delayed=True,\n",
    ").events()\n",
    "\n",
    "higgs = events_delayed.GenPart[\n",
    "    events_delayed.GenPart.hasFlags([\"fromHardProcess\", \"isLastCopy\"])\n",
    "    * (events_delayed.GenPart.pdgId == 25)\n",
    "]"
   ]
  },
  {
   "cell_type": "code",
   "execution_count": null,
   "metadata": {},
   "outputs": [],
   "source": [
    "ak.flatten(higgs.children.children, axis=3)"
   ]
  },
  {
   "cell_type": "code",
   "execution_count": null,
   "metadata": {},
   "outputs": [],
   "source": [
    "ak.flatten(higgs.children.children, axis=2)"
   ]
  },
  {
   "cell_type": "code",
   "execution_count": null,
   "metadata": {},
   "outputs": [],
   "source": [
    "higgs.compute().children"
   ]
  },
  {
   "cell_type": "code",
   "execution_count": null,
   "metadata": {},
   "outputs": [],
   "source": [
    "dak.from_numpy()"
   ]
  },
  {
   "cell_type": "code",
   "execution_count": null,
   "metadata": {},
   "outputs": [],
   "source": [
    "dak.flatten(dak.from_lists(list(np.random.rand(2, 2, 2, 2, 2))), axis=3)"
   ]
  },
  {
   "cell_type": "code",
   "execution_count": null,
   "metadata": {},
   "outputs": [],
   "source": [
    "events = nanoevents.NanoEventsFactory.from_root(\n",
    "    {\n",
    "        \"root://cmseos.fnal.gov///store/user/lpcpfnano/cmantill/v2_3/2017/HH/GluGluToHHTobbVV_node_cHHH0_TuneCP5_13TeV-powheg-pythia8/GluGluToHHTobbVV_node_cHHH0/220808_163755/0000/nano_mc2017_1-1.root\": \"Events\"\n",
    "    },\n",
    "    schemaclass=nanoevents.NanoAODSchema,\n",
    "    delayed=False,\n",
    ").events()"
   ]
  },
  {
   "cell_type": "code",
   "execution_count": null,
   "metadata": {},
   "outputs": [],
   "source": [
    "higgs = events.GenPart[\n",
    "    events.GenPart.hasFlags([\"fromHardProcess\", \"isLastCopy\"]) * (events.GenPart.pdgId == 25)\n",
    "]\n",
    "ak.flatten(higgs.children.children, axis=3)"
   ]
  },
  {
   "cell_type": "code",
   "execution_count": null,
   "metadata": {},
   "outputs": [],
   "source": [
    "genparts = events.GenPart[events.GenPart.hasFlags(GEN_FLAGS)]\n",
    "higgs = genparts[genparts.pdgId == HIGGS_PDGID]\n",
    "higgs_children = higgs.children\n",
    "bb = higgs_children[np.abs(higgs_children.pdgId) == b_PDGID]\n",
    "taus = higgs_children[np.abs(higgs_children.pdgId) == TAU_PDGID]\n",
    "tau_children = ak.flatten(taus.children, axis=2)"
   ]
  },
  {
   "cell_type": "code",
   "execution_count": null,
   "metadata": {},
   "outputs": [],
   "source": [
    "# iterate through the children in photon scattering events to get final daughter particles\n",
    "for i in range(5):\n",
    "    tau_mask = ak.any(np.abs(tau_children.pdgId) == TAU_PDGID, axis=2)\n",
    "    if not ak.any(tau_mask):\n",
    "        print(f\"Done after {i} iterations\")\n",
    "        break\n",
    "\n",
    "    tau_children_children = ak.flatten(\n",
    "        tau_children[np.abs(tau_children.pdgId) == TAU_PDGID].children, axis=3\n",
    "    )\n",
    "\n",
    "    # use a where condition to get next layer of children for photon scattering events\n",
    "    tau_children = ak.where(tau_mask, tau_children_children, tau_children)"
   ]
  },
  {
   "cell_type": "code",
   "execution_count": null,
   "metadata": {},
   "outputs": [],
   "source": [
    "def _sum_taus(taut):\n",
    "    return ak.sum(taut, axis=1)\n",
    "\n",
    "\n",
    "# check neutral and charged pion IDs for hadronic taus\n",
    "tauh = _sum_taus(\n",
    "    ak.any([ak.any(np.abs(tau_children.pdgId) == pid, axis=2) for pid in PI_PDGIDS], axis=0)\n",
    ")\n",
    "taumu = _sum_taus(ak.any(np.abs(tau_children.pdgId) == MU_PDGID, axis=2))\n",
    "taue = _sum_taus(ak.any(np.abs(tau_children.pdgId) == ELE_PDGID, axis=2))\n",
    "\n",
    "tauhh = tauh == 2\n",
    "tauhmu = (tauh == 1) & (taumu == 1)\n",
    "tauhe = (tauh == 1) & (taue == 1)"
   ]
  },
  {
   "cell_type": "code",
   "execution_count": null,
   "metadata": {},
   "outputs": [],
   "source": [
    "mhh = (higgs[:, 0] + higgs[:, 1]).mass.to_numpy()\n",
    "weights = events.genWeight.to_numpy()"
   ]
  },
  {
   "cell_type": "code",
   "execution_count": null,
   "metadata": {},
   "outputs": [],
   "source": [
    "triggers_dict = {\n",
    "    \"tauhh\": {\n",
    "        \"mask\": tauhh,\n",
    "        \"label\": r\"$\\tau_h\\tau_h$\",\n",
    "        \"triggers\": {\n",
    "            \"ParticleNetBB\": events.HLT.AK8PFJet250_SoftDropMass40_PFAK8ParticleNetBB0p35,\n",
    "            \"Di-tau\": events.HLT.DoubleMediumDeepTauPFTauHPS35_L2NN_eta2p1,\n",
    "            \"ParticleNetBB | PFJet425\": (\n",
    "                events.HLT.AK8PFJet425_SoftDropMass40\n",
    "                | events.HLT.AK8PFJet250_SoftDropMass40_PFAK8ParticleNetBB0p35\n",
    "            ),\n",
    "        },\n",
    "    },\n",
    "    \"tauhmu\": {\n",
    "        \"mask\": tauhmu,\n",
    "        \"label\": r\"$\\tau_h\\mu$\",\n",
    "        \"triggers\": {\n",
    "            \"ParticleNetBB\": events.HLT.AK8PFJet250_SoftDropMass40_PFAK8ParticleNetBB0p35,\n",
    "            \"ParticleNetBB | IsoMu24 | Mu50\": (\n",
    "                events.HLT.AK8PFJet250_SoftDropMass40_PFAK8ParticleNetBB0p35\n",
    "                | events.HLT.IsoMu24\n",
    "                | events.HLT.Mu50\n",
    "            ),\n",
    "        },\n",
    "    },\n",
    "    \"tauhe\": {\n",
    "        \"mask\": tauhe,\n",
    "        \"label\": r\"$\\tau_he$\",\n",
    "        \"triggers\": {\n",
    "            \"ParticleNetBB\": events.HLT.AK8PFJet250_SoftDropMass40_PFAK8ParticleNetBB0p35,\n",
    "            \"ParticleNetBB | EGamma\": (\n",
    "                events.HLT.AK8PFJet250_SoftDropMass40_PFAK8ParticleNetBB0p35\n",
    "                | events.HLT.Ele30_WPTight_Gsf\n",
    "                | events.HLT.Ele115_CaloIdVT_GsfTrkIdT\n",
    "                | events.HLT.Ele50_CaloIdVT_GsfTrkIdT_PFJet165\n",
    "                | events.HLT.Photon200\n",
    "            ),\n",
    "        },\n",
    "    },\n",
    "}"
   ]
  },
  {
   "cell_type": "code",
   "execution_count": null,
   "metadata": {},
   "outputs": [],
   "source": [
    "plt.rcParams.update({\"font.size\": 14})\n",
    "\n",
    "for cat, vals in triggers_dict.items():\n",
    "    (mask, label, triggers) = vals.values()\n",
    "\n",
    "    fig, (ax, rax) = plt.subplots(\n",
    "        2, 1, figsize=(12, 14), gridspec_kw=dict(height_ratios=[4, 1], hspace=0.07), sharex=True\n",
    "    )\n",
    "\n",
    "    bins = np.linspace(250, 1000, 50)\n",
    "    hists = {\"All\": np.histogram(mhh[mask], bins=bins, weights=weights[mask])}\n",
    "    ratios = {}\n",
    "\n",
    "    hep.histplot(\n",
    "        hists[\"All\"],\n",
    "        yerr=False,\n",
    "        label=\"All\",\n",
    "        ax=ax,\n",
    "    )\n",
    "\n",
    "    colours = plt.cm.tab10.colors[1:]\n",
    "\n",
    "    for key, c in zip(triggers.keys(), colours):\n",
    "        print(key)\n",
    "        hists[key] = np.histogram(\n",
    "            mhh[mask & triggers[key]], bins=bins, weights=weights[mask & triggers[key]]\n",
    "        )\n",
    "        ratios[key] = hists[key][0] / hists[\"All\"][0]\n",
    "\n",
    "        hep.histplot(\n",
    "            hists[key],\n",
    "            yerr=False,\n",
    "            label=key,\n",
    "            ax=ax,\n",
    "            color=c,\n",
    "        )\n",
    "\n",
    "        hep.histplot(\n",
    "            (ratios[key], bins),\n",
    "            yerr=False,\n",
    "            label=key,\n",
    "            ax=rax,\n",
    "            histtype=\"errorbar\",\n",
    "            color=c,\n",
    "            capsize=4,\n",
    "        )\n",
    "\n",
    "    ax.set_ylabel(\"Events [A.U.]\")\n",
    "    ax.legend()\n",
    "    ax.set_title(label)\n",
    "\n",
    "    rax.legend()\n",
    "    rax.grid(axis=\"y\")\n",
    "    rax.set_xlabel(r\"$m_{HH}$ [GeV]\")\n",
    "    rax.set_ylabel(\"Triggered / All\")\n",
    "\n",
    "    hep.cms.label(ax=ax, data=False, year=2022, com=\"13.6\")\n",
    "\n",
    "    plt.savefig(plot_dir / f\"mhh_{cat}.pdf\", bbox_inches=\"tight\")\n",
    "    plt.show()"
   ]
  }
 ],
 "metadata": {
  "kernelspec": {
   "display_name": "python311",
   "language": "python",
   "name": "python3"
  },
  "language_info": {
   "codemirror_mode": {
    "name": "ipython",
    "version": 3
   },
   "file_extension": ".py",
   "mimetype": "text/x-python",
   "name": "python",
   "nbconvert_exporter": "python",
   "pygments_lexer": "ipython3",
   "version": "3.11.10"
  }
 },
 "nbformat": 4,
 "nbformat_minor": 2
}
