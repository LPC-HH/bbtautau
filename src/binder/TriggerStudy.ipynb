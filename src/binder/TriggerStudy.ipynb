{
 "cells": [
  {
   "cell_type": "code",
   "execution_count": null,
   "metadata": {},
   "outputs": [],
   "source": [
    "from pathlib import Path\n",
    "\n",
    "import uproot\n",
    "import awkward as ak\n",
    "from coffea import nanoevents\n",
    "\n",
    "import numpy as np\n",
    "\n",
    "import matplotlib.pyplot as plt\n",
    "import mplhep as hep\n",
    "from matplotlib import colors\n",
    "\n",
    "from boostedhh.processors.utils import GEN_FLAGS, PDGID, pad_val"
   ]
  },
  {
   "cell_type": "code",
   "execution_count": null,
   "metadata": {},
   "outputs": [],
   "source": [
    "# automatically reloads imported files on edits\n",
    "%load_ext autoreload\n",
    "%autoreload 2"
   ]
  },
  {
   "cell_type": "code",
   "execution_count": null,
   "metadata": {},
   "outputs": [],
   "source": [
    "MAIN_DIR = Path(\"../../\")\n",
    "\n",
    "plot_dir = MAIN_DIR / \"plots/TriggerStudy/24Nov6\"\n",
    "plot_dir.mkdir(parents=True, exist_ok=True)"
   ]
  },
  {
   "cell_type": "code",
   "execution_count": null,
   "metadata": {},
   "outputs": [],
   "source": [
    "events = nanoevents.NanoEventsFactory.from_root(\n",
    "    \"root://cmseos.fnal.gov//store/user/lpcdihiggsboost/NanoAOD_v12_ParT/rkansal/2022/HHbbtt/GluGlutoHHto2B2Tau_kl-1p00_kt-1p00_c2-0p00_LHEweights_TuneCP5_13p6TeV_powheg-pythia8/GluGlutoHHto2B2Tau_kl-1p00_kt-1p00_c2-0p00_TuneCP5_13p6TeV/241028_235514/0000/Run3Summer22NanoAODv12_1-1.root\",\n",
    "    schemaclass=nanoevents.NanoAODSchema,\n",
    ").events()"
   ]
  },
  {
   "cell_type": "code",
   "execution_count": null,
   "metadata": {},
   "outputs": [],
   "source": [
    "np.min(ak.flatten(ak.firsts(events.FatJet.pt), axis=None))"
   ]
  },
  {
   "cell_type": "code",
   "execution_count": null,
   "metadata": {},
   "outputs": [],
   "source": [
    "plt.hist(\n",
    "    ak.flatten(ak.firsts(events.FatJet.pt), axis=None), np.linspace(0, 1000, 101), histtype=\"step\"\n",
    ")"
   ]
  },
  {
   "cell_type": "code",
   "execution_count": null,
   "metadata": {},
   "outputs": [],
   "source": [
    "events.HLT.fields"
   ]
  },
  {
   "cell_type": "code",
   "execution_count": null,
   "metadata": {},
   "outputs": [],
   "source": [
    "events.FatJet.fields"
   ]
  },
  {
   "cell_type": "code",
   "execution_count": null,
   "metadata": {},
   "outputs": [],
   "source": [
    "genparts = events.GenPart[events.GenPart.hasFlags(GEN_FLAGS)]\n",
    "higgs = genparts[genparts.pdgId == PDGID.H]\n",
    "higgs_children = higgs.children\n",
    "bb = higgs_children[np.abs(higgs_children.pdgId) == PDGID.b]\n",
    "taus = higgs_children[np.abs(higgs_children.pdgId) == PDGID.tau]\n",
    "tau_children = ak.flatten(taus.children, axis=2)"
   ]
  },
  {
   "cell_type": "code",
   "execution_count": null,
   "metadata": {},
   "outputs": [],
   "source": [
    "ak.any(ak.is_none(higgs_children.pdgId[:, :, 0]))"
   ]
  },
  {
   "cell_type": "code",
   "execution_count": null,
   "metadata": {},
   "outputs": [],
   "source": [
    "ak.flatten(bb.pt, axis=2).to_numpy().data"
   ]
  },
  {
   "cell_type": "code",
   "execution_count": null,
   "metadata": {},
   "outputs": [],
   "source": [
    "pad_val(ak.flatten(bb.pt, axis=2), 2, axis=1)"
   ]
  },
  {
   "cell_type": "code",
   "execution_count": null,
   "metadata": {},
   "outputs": [],
   "source": [
    "pad_val(higgs_children.pdgId[:, :, 0], 2, axis=1)"
   ]
  },
  {
   "cell_type": "code",
   "execution_count": null,
   "metadata": {},
   "outputs": [],
   "source": [
    "# iterate through the children in photon scattering events to get final daughter particles\n",
    "for i in range(5):\n",
    "    tau_mask = ak.any(np.abs(tau_children.pdgId) == TAU_PDGID, axis=2)\n",
    "    if not ak.any(tau_mask):\n",
    "        print(f\"Done after {i} iterations\")\n",
    "        break\n",
    "\n",
    "    tau_children_children = ak.flatten(\n",
    "        tau_children[np.abs(tau_children.pdgId) == TAU_PDGID].children, axis=3\n",
    "    )\n",
    "\n",
    "    # use a where condition to get next layer of children for photon scattering events\n",
    "    tau_children = ak.where(tau_mask, tau_children_children, tau_children)"
   ]
  },
  {
   "cell_type": "code",
   "execution_count": null,
   "metadata": {},
   "outputs": [],
   "source": [
    "def _sum_taus(taut):\n",
    "    return ak.sum(taut, axis=1)\n",
    "\n",
    "\n",
    "# check neutral and charged pion IDs for hadronic taus\n",
    "tauh = _sum_taus(\n",
    "    ak.any([ak.any(np.abs(tau_children.pdgId) == pid, axis=2) for pid in PI_PDGIDS], axis=0)\n",
    ")\n",
    "taumu = _sum_taus(ak.any(np.abs(tau_children.pdgId) == MU_PDGID, axis=2))\n",
    "taue = _sum_taus(ak.any(np.abs(tau_children.pdgId) == ELE_PDGID, axis=2))\n",
    "\n",
    "tauhh = tauh == 2\n",
    "tauhmu = (tauh == 1) & (taumu == 1)\n",
    "tauhe = (tauh == 1) & (taue == 1)"
   ]
  },
  {
   "cell_type": "code",
   "execution_count": null,
   "metadata": {},
   "outputs": [],
   "source": [
    "mhh = (higgs[:, 0] + higgs[:, 1]).mass.to_numpy()\n",
    "weights = events.genWeight.to_numpy()"
   ]
  },
  {
   "cell_type": "code",
   "execution_count": null,
   "metadata": {},
   "outputs": [],
   "source": [
    "# Tau triggers Run 3 https://twiki.cern.ch/twiki/bin/view/CMSPublic/Run3TauHLT\n",
    "\n",
    "triggers_dict = {\n",
    "    \"tauhh\": {\n",
    "        \"mask\": tauhh,\n",
    "        \"label\": r\"$\\tau_h\\tau_h$\",\n",
    "        \"triggers\": {\n",
    "            \"ParticleNetBB\": events.HLT.AK8PFJet250_SoftDropMass40_PFAK8ParticleNetBB0p35,\n",
    "            \"Di-tau\": events.HLT.DoubleMediumDeepTauPFTauHPS35_L2NN_eta2p1\n",
    "            | events.HLT.DoubleMediumDeepTauPFTauHPS30_L2NN_eta2p1_PFJet60\n",
    "            | events.HLT.DoubleMediumDeepTauPFTauHPS30_L2NN_eta2p1_PFJet75,\n",
    "            \"ParticleNetBB | PFJet425\": (\n",
    "                events.HLT.AK8PFJet425_SoftDropMass40\n",
    "                | events.HLT.AK8PFJet250_SoftDropMass40_PFAK8ParticleNetBB0p35\n",
    "            ),\n",
    "            \"ParticleNetBB | PFJet425 | Di-tau\": (\n",
    "                events.HLT.AK8PFJet425_SoftDropMass40\n",
    "                | events.HLT.AK8PFJet250_SoftDropMass40_PFAK8ParticleNetBB0p35\n",
    "                | events.HLT.DoubleMediumDeepTauPFTauHPS35_L2NN_eta2p1\n",
    "                | events.HLT.DoubleMediumDeepTauPFTauHPS30_L2NN_eta2p1_PFJet60\n",
    "                | events.HLT.DoubleMediumDeepTauPFTauHPS30_L2NN_eta2p1_PFJet75\n",
    "            ),\n",
    "        },\n",
    "    },\n",
    "    \"tauhmu\": {\n",
    "        \"mask\": tauhmu,\n",
    "        \"label\": r\"$\\tau_h\\mu$\",\n",
    "        \"triggers\": {\n",
    "            \"ParticleNetBB\": events.HLT.AK8PFJet250_SoftDropMass40_PFAK8ParticleNetBB0p35,\n",
    "            \"ParticleNetBB | IsoMu24 | Mu50\": (\n",
    "                events.HLT.AK8PFJet250_SoftDropMass40_PFAK8ParticleNetBB0p35\n",
    "                | events.HLT.IsoMu24\n",
    "                | events.HLT.Mu50\n",
    "            ),\n",
    "            \"ParticleNetBB | IsoMu24 | Mu50 | Mu-tau\": (\n",
    "                events.HLT.AK8PFJet250_SoftDropMass40_PFAK8ParticleNetBB0p35\n",
    "                | events.HLT.IsoMu24\n",
    "                | events.HLT.Mu50\n",
    "                | events.HLT.IsoMu20_eta2p1_LooseDeepTauPFTauHPS27_eta2p1_CrossL1\n",
    "                | events.HLT.IsoMu24_eta2p1_LooseDeepTauPFTauHPS180_eta2p1\n",
    "                | events.HLT.IsoMu24_eta2p1_LooseDeepTauPFTauHPS30_eta2p1_CrossL1\n",
    "                | events.HLT.IsoMu24_eta2p1_MediumDeepTauPFTauHPS35_L2NN_eta2p1_CrossL1\n",
    "                | events.HLT.IsoMu24_eta2p1_MediumDeepTauPFTauHPS30_L2NN_eta2p1_CrossL1\n",
    "                | events.HLT.IsoMu24_eta2p1_MediumDeepTauPFTauHPS45_L2NN_eta2p1_CrossL1\n",
    "                | events.HLT.IsoMu20_eta2p1_TightChargedIsoPFTauHPS27_eta2p1_CrossL1\n",
    "                | events.HLT.IsoMu20_eta2p1_TightChargedIsoPFTauHPS27_eta2p1_TightID_CrossL1\n",
    "            ),\n",
    "            \"ParticleNetBB | IsoMu24 | Mu50 | Mu-tau+Jet\": (\n",
    "                events.HLT.AK8PFJet250_SoftDropMass40_PFAK8ParticleNetBB0p35\n",
    "                | events.HLT.IsoMu24\n",
    "                | events.HLT.Mu50\n",
    "                | events.HLT.IsoMu20_eta2p1_LooseDeepTauPFTauHPS27_eta2p1_CrossL1\n",
    "                | events.HLT.IsoMu24_eta2p1_LooseDeepTauPFTauHPS180_eta2p1\n",
    "                | events.HLT.IsoMu24_eta2p1_LooseDeepTauPFTauHPS30_eta2p1_CrossL1\n",
    "                | events.HLT.IsoMu24_eta2p1_MediumDeepTauPFTauHPS35_L2NN_eta2p1_CrossL1\n",
    "                | events.HLT.IsoMu24_eta2p1_MediumDeepTauPFTauHPS30_L2NN_eta2p1_CrossL1\n",
    "                | events.HLT.IsoMu24_eta2p1_MediumDeepTauPFTauHPS45_L2NN_eta2p1_CrossL1\n",
    "                | events.HLT.IsoMu20_eta2p1_TightChargedIsoPFTauHPS27_eta2p1_CrossL1\n",
    "                | events.HLT.IsoMu20_eta2p1_TightChargedIsoPFTauHPS27_eta2p1_TightID_CrossL1\n",
    "                | events.HLT.IsoMu24_eta2p1_MediumDeepTauPFTauHPS30_L2NN_eta2p1_PFJet60_CrossL1\n",
    "                | events.HLT.IsoMu24_eta2p1_MediumDeepTauPFTauHPS30_L2NN_eta2p1_PFJet75_CrossL1\n",
    "            ),\n",
    "        },\n",
    "    },\n",
    "    \"tauhe\": {\n",
    "        \"mask\": tauhe,\n",
    "        \"label\": r\"$\\tau_he$\",\n",
    "        \"triggers\": {\n",
    "            \"ParticleNetBB\": events.HLT.AK8PFJet250_SoftDropMass40_PFAK8ParticleNetBB0p35,\n",
    "            \"ParticleNetBB | EGamma\": (\n",
    "                events.HLT.AK8PFJet250_SoftDropMass40_PFAK8ParticleNetBB0p35\n",
    "                | events.HLT.Ele30_WPTight_Gsf\n",
    "                | events.HLT.Ele115_CaloIdVT_GsfTrkIdT\n",
    "                | events.HLT.Ele50_CaloIdVT_GsfTrkIdT_PFJet165\n",
    "                | events.HLT.Photon200\n",
    "            ),\n",
    "            \"ParticleNetBB | EGamma | E-tau\": (\n",
    "                events.HLT.AK8PFJet250_SoftDropMass40_PFAK8ParticleNetBB0p35\n",
    "                | events.HLT.Ele30_WPTight_Gsf\n",
    "                | events.HLT.Ele115_CaloIdVT_GsfTrkIdT\n",
    "                | events.HLT.Ele50_CaloIdVT_GsfTrkIdT_PFJet165\n",
    "                | events.HLT.Photon200\n",
    "                | events.HLT.Ele24_eta2p1_WPTight_Gsf_LooseDeepTauPFTauHPS30_eta2p1_CrossL1\n",
    "                | events.HLT.Ele24_eta2p1_WPTight_Gsf_TightChargedIsoPFTauHPS30_eta2p1_CrossL1\n",
    "            ),\n",
    "        },\n",
    "    },\n",
    "}"
   ]
  },
  {
   "cell_type": "code",
   "execution_count": null,
   "metadata": {},
   "outputs": [],
   "source": [
    "plt.rcParams.update({\"font.size\": 14})\n",
    "\n",
    "for cat, vals in triggers_dict.items():\n",
    "    (mask, label, triggers) = vals.values()\n",
    "\n",
    "    fig, (ax, rax) = plt.subplots(\n",
    "        2, 1, figsize=(12, 14), gridspec_kw=dict(height_ratios=[4, 1], hspace=0.07), sharex=True\n",
    "    )\n",
    "\n",
    "    bins = np.linspace(250, 1000, 50)\n",
    "    hists = {\"All\": np.histogram(mhh[mask], bins=bins, weights=weights[mask])}\n",
    "    ratios = {}\n",
    "\n",
    "    hep.histplot(\n",
    "        hists[\"All\"],\n",
    "        yerr=False,\n",
    "        label=\"All\",\n",
    "        ax=ax,\n",
    "    )\n",
    "\n",
    "    colours = plt.cm.tab10.colors[1:]\n",
    "\n",
    "    for key, c in zip(triggers.keys(), colours):\n",
    "        print(key)\n",
    "        hists[key] = np.histogram(\n",
    "            mhh[mask & triggers[key]], bins=bins, weights=weights[mask & triggers[key]]\n",
    "        )\n",
    "        ratios[key] = hists[key][0] / hists[\"All\"][0]\n",
    "\n",
    "        hep.histplot(\n",
    "            hists[key],\n",
    "            yerr=False,\n",
    "            label=key,\n",
    "            ax=ax,\n",
    "            color=c,\n",
    "        )\n",
    "\n",
    "        hep.histplot(\n",
    "            (ratios[key], bins),\n",
    "            yerr=False,\n",
    "            label=key,\n",
    "            ax=rax,\n",
    "            histtype=\"errorbar\",\n",
    "            color=c,\n",
    "            capsize=4,\n",
    "        )\n",
    "\n",
    "    ax.set_ylabel(\"Events [A.U.]\")\n",
    "    ax.legend()\n",
    "    ax.set_title(label)\n",
    "\n",
    "    rax.legend()\n",
    "    rax.grid(axis=\"y\")\n",
    "    rax.set_xlabel(r\"$m_{HH}$ [GeV]\")\n",
    "    rax.set_ylabel(\"Triggered / All\")\n",
    "\n",
    "    hep.cms.label(ax=ax, data=False, year=2022, com=\"13.6\")\n",
    "\n",
    "    plt.savefig(plot_dir / f\"mhh_{cat}.pdf\", bbox_inches=\"tight\")\n",
    "    plt.show()"
   ]
  },
  {
   "cell_type": "code",
   "execution_count": null,
   "metadata": {},
   "outputs": [],
   "source": []
  }
 ],
 "metadata": {
  "kernelspec": {
   "display_name": "hh",
   "language": "python",
   "name": "python3"
  },
  "language_info": {
   "codemirror_mode": {
    "name": "ipython",
    "version": 3
   },
   "file_extension": ".py",
   "mimetype": "text/x-python",
   "name": "python",
   "nbconvert_exporter": "python",
   "pygments_lexer": "ipython3",
   "version": "3.11.0"
  }
 },
 "nbformat": 4,
 "nbformat_minor": 2
}
